{
 "cells": [
  {
   "cell_type": "markdown",
   "metadata": {},
   "source": [
    "# 0. Setup\n",
    "\n",
    "Let's begin by installing and importing all of the different components we will need.\n",
    "\n",
    "- proposer un modèle de markdown ?"
   ]
  },
  {
   "cell_type": "code",
   "execution_count": null,
   "metadata": {},
   "outputs": [],
   "source": [
    "print(\"Installing and importing packages...\")\n",
    "\n",
    "# Uninstall and reinstall packages for a clean environment\n",
    "%pip uninstall -q -y arvestapi\n",
    "%pip install -q --disable-pip-version-check git+https://github.com/arvest-data-in-context/arvest-api.git\n",
    "%pip install -q iiif_prezi3\n",
    "\n",
    "\n",
    "# !pip uninstall -q -y jhutils\n",
    "# !pip install -q --disable-pip-version-check git+https://github.com/jdchart/jh-py-utils.git\n",
    "\n",
    "# !pip uninstall -q -y arvesttools\n",
    "# !pip install -q --disable-pip-version-check git+https://github.com/arvest-data-in-context/arvest-api-tools.git\n",
    "\n",
    "# Import packages\n",
    "import arvestapi\n",
    "import os\n",
    "import json\n",
    "from arvesttools.youtube import test\n",
    "from arvesttools.md_parser import sec_convert, recuperation\n",
    "from arvesttools.md_to_manifest import md_to_manifest\n",
    "\n",
    "print(\"👍 Ready!\")"
   ]
  },
  {
   "cell_type": "markdown",
   "metadata": {},
   "source": [
    "# 1. Prepare your files\n",
    " \n",
    "First we need to your Arvest user email and password and the path of the folder were you have stock your markdown files and of the folder where you want to load your manifest files before upload there to Arverst\n",
    "For each markdown files in the markdown folder, this script will create a separate json file and upload it on Arvest."
   ]
  },
  {
   "cell_type": "code",
   "execution_count": null,
   "metadata": {},
   "outputs": [],
   "source": [
    "# Your Arvest user email and password\n",
    "\n",
    "ARVEST_MAIL = \"aryodeliae@gmail.com\"\n",
    "ARVEST_PASSWORD = \"Arvestmoon1203\"\n",
    "\n",
    "# The folder's path were you want to load your manifest\n",
    "\n",
    "MARKDOWN_PATH = os.path.join(os.getcwd(),\"Boite a md\")\n",
    "MANIFEST_PATH = os.path.join(os.getcwd(),\"Boite a manifest\")\n"
   ]
  },
  {
   "cell_type": "markdown",
   "metadata": {},
   "source": [
    "# 3. Launch the script"
   ]
  },
  {
   "cell_type": "code",
   "execution_count": null,
   "metadata": {},
   "outputs": [],
   "source": [
    "md_to_manifest(MARKDOWN_PATH, MANIFEST_PATH, ARVEST_MAIL, ARVEST_PASSWORD)"
   ]
  }
 ],
 "metadata": {
  "kernelspec": {
   "display_name": "Python 3",
   "language": "python",
   "name": "python3"
  },
  "language_info": {
   "codemirror_mode": {
    "name": "ipython",
    "version": 3
   },
   "file_extension": ".py",
   "mimetype": "text/x-python",
   "name": "python",
   "nbconvert_exporter": "python",
   "pygments_lexer": "ipython3",
   "version": "3.12.7"
  }
 },
 "nbformat": 4,
 "nbformat_minor": 2
}

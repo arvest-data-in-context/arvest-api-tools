{
 "cells": [
  {
   "cell_type": "markdown",
   "metadata": {},
   "source": [
    "![alt text](<Boite a image/Markdown to manifest 1.jpg>)"
   ]
  },
  {
   "cell_type": "markdown",
   "metadata": {},
   "source": [
    "# 0. Setup\n",
    "\n",
    "Let's begin by installing and importing all of the different components we will need.\n",
    "\n",
    "- proposer un modèle de markdown ?"
   ]
  },
  {
   "cell_type": "code",
   "execution_count": 1,
   "metadata": {},
   "outputs": [
    {
     "name": "stdout",
     "output_type": "stream",
     "text": [
      "Installing and importing packages...\n",
      "Note: you may need to restart the kernel to use updated packages.\n",
      "Note: you may need to restart the kernel to use updated packages.\n"
     ]
    },
    {
     "name": "stderr",
     "output_type": "stream",
     "text": [
      "\n",
      "[notice] A new release of pip is available: 24.2 -> 25.0.1\n",
      "[notice] To update, run: python.exe -m pip install --upgrade pip\n"
     ]
    },
    {
     "name": "stdout",
     "output_type": "stream",
     "text": [
      "Note: you may need to restart the kernel to use updated packages.\n",
      "👍 Ready!\n"
     ]
    }
   ],
   "source": [
    "print(\"Installing and importing packages...\")\n",
    "\n",
    "# Uninstall and reinstall packages for a clean environment\n",
    "%pip uninstall -q -y arvestapi\n",
    "%pip install -q --disable-pip-version-check git+https://github.com/arvest-data-in-context/arvest-api.git\n",
    "%pip install -q iiif_prezi3\n",
    "\n",
    "\n",
    "# !pip uninstall -q -y jhutils\n",
    "# !pip install -q --disable-pip-version-check git+https://github.com/jdchart/jh-py-utils.git\n",
    "\n",
    "# !pip uninstall -q -y arvesttools\n",
    "# !pip install -q --disable-pip-version-check git+https://github.com/arvest-data-in-context/arvest-api-tools.git\n",
    "\n",
    "# Import packages\n",
    "import os\n",
    "from arvesttools.md_to_manifest import md_to_manifest, metadata_update, md_to_anotation\n",
    "\n",
    "print(\"👍 Ready!\")"
   ]
  },
  {
   "cell_type": "markdown",
   "metadata": {},
   "source": [
    "# 1. Prepare your files\n",
    " \n",
    "First we need to your Arvest user email and password and the path of the folder were you have stock your markdown files and of the folder where you want to load your manifest files before upload there to Arverst\n",
    "For each markdown files in the markdown folder, this script will create a separate json file and upload it on Arvest."
   ]
  },
  {
   "cell_type": "code",
   "execution_count": 3,
   "metadata": {},
   "outputs": [],
   "source": [
    "# Your Arvest user email and password\n",
    "\n",
    "ARVEST_MAIL = \"aryodeliae@gmail.com\"\n",
    "ARVEST_PASSWORD = \"Arvestmoon1203\"\n",
    "\n",
    "# The folder's path were you want to load your manifest\n",
    "\n",
    "MARKDOWN_PATH = os.path.join(os.getcwd(),\"Boite a md\")\n",
    "MANIFEST_PATH = os.path.join(os.getcwd(),\"Boite a manifest\")\n"
   ]
  },
  {
   "cell_type": "markdown",
   "metadata": {},
   "source": [
    "# 3. Launch the script"
   ]
  },
  {
   "cell_type": "code",
   "execution_count": 4,
   "metadata": {},
   "outputs": [
    {
     "name": "stdout",
     "output_type": "stream",
     "text": [
      "Opening statements\n",
      "Keynote - Scott deLaHunta ¬ Software for Dancers\n",
      "Olivier Aubert ¬ Advene', ' a Look Back on 20 Years of Video Annotation Instrumentation\n",
      "Mark J. Williams ¬ Deep Screens and Evocative Surfaces\n",
      "Michael Rau & Peter Broadwell ¬ Machine Intelligence for Motion Exegesis (MIME)\n",
      " Matteo Treleani ¬ Crossing Borders Archives. The Circulation of Stock Shots in Audiovisual Media\n",
      "Nicola Carboni ¬ The Structures of Visual Exchanges\n",
      "Bunbuku\n",
      "{'id': 'http://127.0.0.1:5500/manifest_1.json', 'type': 'Manifest', 'label': {'en': ['Opening statements']}, 'context': None, 'metadata': [{'label': 'Title', 'value': 'Opening statements'}, {'label': 'Speaker', 'value': 'Clarisse Bardiot & Jacob Hart (organizers)'}, {'label': 'Description', 'value': \"DAY 1 - Speaking order : ']\"}, {'label': 'Place', 'value': 'University Rennes 2'}, {'label': 'URL', 'value': 'https://www.youtube.com/watch?v=lJ3GbPuPC8Y'}, {'label': 'Tag', 'value': ''}], 'summary': None, 'requiredStatement': None, 'rendering': None, 'service': None, 'services': None, 'viewingDirection': None, 'placeholderCanvas': None, 'accompanyingCanvas': None, 'rights': None, 'start': None, 'navDate': None, 'navPlace': None, 'provider': None, 'seeAlso': None, 'thumbnail': None, 'homepage': None, 'behavior': None, 'partOf': None, 'items': [{'id': 'http://127.0.0.1:5500/canvas1', 'type': 'Canvas', 'label': None, 'height': 113, 'width': 200, 'duration': 1442, 'metadata': None, 'summary': None, 'requiredStatement': None, 'rendering': None, 'rights': None, 'navDate': None, 'navPlace': None, 'provider': None, 'seeAlso': None, 'service': None, 'placeholderCanvas': None, 'accompanyingCanvas': None, 'thumbnail': None, 'homepage': None, 'behavior': None, 'partOf': None, 'items': [{'id': 'http://127.0.0.1:5500/canvas/page', 'type': 'AnnotationPage', 'label': None, 'context': None, 'rendering': None, 'service': None, 'thumbnail': None, 'items': [{'id': 'http://127.0.0.1:5500/canvas/page/annotation', 'type': 'Annotation', 'label': None, 'service': None, 'rendering': None, 'thumbnail': None, 'motivation': 'painting', 'body': {'id': 'https://www.youtube.com/watch?v=lJ3GbPuPC8Y', 'type': 'Video', 'height': 113, 'width': 200, 'duration': 1442, 'language': None, 'rendering': None, 'service': None, 'format': 'video/MPG', 'label': None, 'thumbnail': None, 'annotations': None}, 'target': 'http://127.0.0.1:5500/canvas1'}]}], 'annotations': None}], 'structures': None, 'annotations': None}\n",
      "_________________________________\n",
      "{'id': 'http://127.0.0.1:5500/manifest_2.json', 'type': 'Manifest', 'label': {'en': ['Keynote - Scott deLaHunta ¬ Software for Dancers']}, 'context': None, 'metadata': [{'label': 'Title', 'value': 'Keynote - Scott deLaHunta ¬ Software for Dancers'}, {'label': 'Speaker', 'value': 'Scott deLaHunta'}, {'label': 'Description', 'value': \"DAY 1 - Piecemaker was a video annotation software used by The Forsythe Company in Frankfurt from 2007-2013 to aid the ensemble in recalling material they were working on in the studio in the context of choreographic creation. Most of the annotations were made live', ' with a static camera', ' while creative work was happening. These recordings were never intended to be made public. In 2010', ' the Motion Bank project took on the task of developing this software for wider public use in the dance community. Since then', ' different versions have been made and used for several projects. This development has been supported with research funding from various sources', ' and the software is now completely open source. Crucially', ' the focus has remained on making a digital (documentation) tool that is usable and useful for dance practitioners', ' both artists and educators. This focus will form the core of this talk', ' including insights into methods into language-use gained from the Motion Bank research. I will reflect on the nature of dance processes and knowledge to address some critical questions that come up in the context of developing usable and useful software for dancers. I will lightly trace a history of this from the multimedia 1990s to the current data-driven and AI preoccupied present', ' and speculate on what this might mean for the understanding and valuing of bodily practices.\"}, {'label': 'Place', 'value': 'University Rennes 2'}, {'label': 'URL', 'value': 'https://www.youtube.com/watch?v=5JopAb3YFJE'}, {'label': 'Tag', 'value': \"choregraphy', ' dance', ' Motion Bank\"}], 'summary': None, 'requiredStatement': None, 'rendering': None, 'service': None, 'services': None, 'viewingDirection': None, 'placeholderCanvas': None, 'accompanyingCanvas': None, 'rights': None, 'start': None, 'navDate': None, 'navPlace': None, 'provider': None, 'seeAlso': None, 'thumbnail': None, 'homepage': None, 'behavior': None, 'partOf': None, 'items': [{'id': 'http://127.0.0.1:5500/canvas1', 'type': 'Canvas', 'label': None, 'height': 113, 'width': 200, 'duration': 3726, 'metadata': None, 'summary': None, 'requiredStatement': None, 'rendering': None, 'rights': None, 'navDate': None, 'navPlace': None, 'provider': None, 'seeAlso': None, 'service': None, 'placeholderCanvas': None, 'accompanyingCanvas': None, 'thumbnail': None, 'homepage': None, 'behavior': None, 'partOf': None, 'items': [{'id': 'http://127.0.0.1:5500/canvas/page', 'type': 'AnnotationPage', 'label': None, 'context': None, 'rendering': None, 'service': None, 'thumbnail': None, 'items': [{'id': 'http://127.0.0.1:5500/canvas/page/annotation', 'type': 'Annotation', 'label': None, 'service': None, 'rendering': None, 'thumbnail': None, 'motivation': 'painting', 'body': {'id': 'https://www.youtube.com/watch?v=5JopAb3YFJE', 'type': 'Video', 'height': 113, 'width': 200, 'duration': 3726, 'language': None, 'rendering': None, 'service': None, 'format': 'video/MPG', 'label': None, 'thumbnail': None, 'annotations': None}, 'target': 'http://127.0.0.1:5500/canvas1'}]}], 'annotations': None}], 'structures': None, 'annotations': None}\n",
      "_________________________________\n",
      "{'id': 'http://127.0.0.1:5500/manifest_3.json', 'type': 'Manifest', 'label': {'en': [\"Olivier Aubert ¬ Advene', ' a Look Back on 20 Years of Video Annotation Instrumentation\"]}, 'context': None, 'metadata': [{'label': 'Title', 'value': \"Olivier Aubert ¬ Advene', ' a Look Back on 20 Years of Video Annotation Instrumentation\"}, {'label': 'Speaker', 'value': 'Olivier Aubert'}, {'label': 'Description', 'value': \"DAY 2 - Advene is a research project and a video annotation tool that started in 2002. It aims at enabling users to practice active reading on their audiovisual documents', ' originally focusing on movies. At that time', ' video on the web was basically not usable', ' except through proprietary plugins that prevented external control. We chose to consider DVDs', ' which were the main stable and legal source of video documents. Presently', ' Advene remains actively maintained and utilized', ' and has adapted to the technological and conceptual changes of the ecosystem', ' to be able for instance to annotate online videos using ontologies. It is still used in its original application of media studies', ' but has also been used in other fields such as sociology', ' ethology', ' arts…Positioned within the realm of Digital Humanities', ' Advene reflects the dichotomy inherent to such projects: digitization brings powerful tools and methods to humanities', ' but also a number of constraints', ' limitations and methodological changes that have to be taken into account. We would like to take a look back on this 20-year experience to provide some lessons learned about furnishing end-users with an effective video annotation tool', ' based on the experience of past and current projects.\"}, {'label': 'Place', 'value': 'University Rennes 2'}, {'label': 'URL', 'value': 'https://www.youtube.com/watch?v=VZuv0QTLkDc'}, {'label': 'Tag', 'value': \"annotation', ' interoperability', ' COCoNotes\"}], 'summary': None, 'requiredStatement': None, 'rendering': None, 'service': None, 'services': None, 'viewingDirection': None, 'placeholderCanvas': None, 'accompanyingCanvas': None, 'rights': None, 'start': None, 'navDate': None, 'navPlace': None, 'provider': None, 'seeAlso': None, 'thumbnail': None, 'homepage': None, 'behavior': None, 'partOf': None, 'items': [{'id': 'http://127.0.0.1:5500/canvas1', 'type': 'Canvas', 'label': None, 'height': 113, 'width': 200, 'duration': 2139, 'metadata': None, 'summary': None, 'requiredStatement': None, 'rendering': None, 'rights': None, 'navDate': None, 'navPlace': None, 'provider': None, 'seeAlso': None, 'service': None, 'placeholderCanvas': None, 'accompanyingCanvas': None, 'thumbnail': None, 'homepage': None, 'behavior': None, 'partOf': None, 'items': [{'id': 'http://127.0.0.1:5500/canvas/page', 'type': 'AnnotationPage', 'label': None, 'context': None, 'rendering': None, 'service': None, 'thumbnail': None, 'items': [{'id': 'http://127.0.0.1:5500/canvas/page/annotation', 'type': 'Annotation', 'label': None, 'service': None, 'rendering': None, 'thumbnail': None, 'motivation': 'painting', 'body': {'id': 'https://www.youtube.com/watch?v=VZuv0QTLkDc', 'type': 'Video', 'height': 113, 'width': 200, 'duration': 2139, 'language': None, 'rendering': None, 'service': None, 'format': 'video/MPG', 'label': None, 'thumbnail': None, 'annotations': None}, 'target': 'http://127.0.0.1:5500/canvas1'}]}], 'annotations': None}], 'structures': None, 'annotations': None}\n",
      "_________________________________\n",
      "{'id': 'http://127.0.0.1:5500/manifest_4.json', 'type': 'Manifest', 'label': {'en': ['Mark J. Williams ¬ Deep Screens and Evocative Surfaces']}, 'context': None, 'metadata': [{'label': 'Title', 'value': 'Mark J. Williams ¬ Deep Screens and Evocative Surfaces'}, {'label': 'Speaker', 'value': 'Mark J. Williams'}, {'label': 'Description', 'value': 'DAY 2 - Deep Screens is a Mellon Foundation Public Knowledge Project that will rip moving image files from hundreds of select dvd\\'s and then use machine learning software to extract and analyze performance movements and expressions across this vast curated collection of U.S. film and television texts from 1895 to the 1970s. This movement and performance data will then be statistically analyzed\", \\' with derivatives and results made available in Dataverse through a partnership with the Dartmouth Library. To make the movement data more relatable\\', \\' motions and gestures will also be applied to animated avatars that can be viewed in virtual reality\\', \\' abstracted from the context of the original film or television text. The combination of quantitative analysis of the data itself and qualitative viewing of the abstracted movements will provide insight into how acting\\', \\' cinematography\\', \\' and technology have evolved across the span of moving image history.'}, {'label': 'Place', 'value': 'University Rennes 2'}, {'label': 'URL', 'value': 'https://www.youtube.com/watch?v=nXYbTjyDyvQ'}, {'label': 'Tag', 'value': \"movement analyze', ' movie', ' machine learning\"}], 'summary': None, 'requiredStatement': None, 'rendering': None, 'service': None, 'services': None, 'viewingDirection': None, 'placeholderCanvas': None, 'accompanyingCanvas': None, 'rights': None, 'start': None, 'navDate': None, 'navPlace': None, 'provider': None, 'seeAlso': None, 'thumbnail': None, 'homepage': None, 'behavior': None, 'partOf': None, 'items': [{'id': 'http://127.0.0.1:5500/canvas1', 'type': 'Canvas', 'label': None, 'height': 113, 'width': 200, 'duration': 2011, 'metadata': None, 'summary': None, 'requiredStatement': None, 'rendering': None, 'rights': None, 'navDate': None, 'navPlace': None, 'provider': None, 'seeAlso': None, 'service': None, 'placeholderCanvas': None, 'accompanyingCanvas': None, 'thumbnail': None, 'homepage': None, 'behavior': None, 'partOf': None, 'items': [{'id': 'http://127.0.0.1:5500/canvas/page', 'type': 'AnnotationPage', 'label': None, 'context': None, 'rendering': None, 'service': None, 'thumbnail': None, 'items': [{'id': 'http://127.0.0.1:5500/canvas/page/annotation', 'type': 'Annotation', 'label': None, 'service': None, 'rendering': None, 'thumbnail': None, 'motivation': 'painting', 'body': {'id': 'https://www.youtube.com/watch?v=nXYbTjyDyvQ', 'type': 'Video', 'height': 113, 'width': 200, 'duration': 2011, 'language': None, 'rendering': None, 'service': None, 'format': 'video/MPG', 'label': None, 'thumbnail': None, 'annotations': None}, 'target': 'http://127.0.0.1:5500/canvas1'}]}], 'annotations': None}], 'structures': None, 'annotations': None}\n",
      "_________________________________\n",
      "{'id': 'http://127.0.0.1:5500/manifest_5.json', 'type': 'Manifest', 'label': {'en': ['Michael Rau & Peter Broadwell ¬ Machine Intelligence for Motion Exegesis (MIME)']}, 'context': None, 'metadata': [{'label': 'Title', 'value': 'Michael Rau & Peter Broadwell ¬ Machine Intelligence for Motion Exegesis (MIME)'}, {'label': 'Speaker', 'value': ' Michael Rau & Peter Broadwell '}, {'label': 'Description', 'value': \"DAY 2 - MIME is a collaborative effort between faculty in the Department of Theater and Performance Studies at Stanford University and developers at the Stanford Libraries’ Center for Interdisciplinary Digital Research. The project incorporates a suite of software tools for applying deep learning-based pose and gesture estimation to recorded theatrical performances', ' coupled with a database-backed web interface to facilitate close evaluation and refinement of data inputs and analytical outputs via interactive visualizations and built-in code notebooks. Previously unexplored', ' computationally oriented research inquiries in performance studies drive the collaboration; these include characterization of the range of choreographed poses within a performance', ' tracking the evolution of actors’ embodiment of a role', ' and comparative thematic and stylistic analysis of performances.\"}, {'label': 'Place', 'value': 'University Rennes 2'}, {'label': 'URL', 'value': 'https://www.youtube.com/watch?v=7ujK78287FE'}, {'label': 'Tag', 'value': \"theater', ' deep learning', ' gesture record\"}], 'summary': None, 'requiredStatement': None, 'rendering': None, 'service': None, 'services': None, 'viewingDirection': None, 'placeholderCanvas': None, 'accompanyingCanvas': None, 'rights': None, 'start': None, 'navDate': None, 'navPlace': None, 'provider': None, 'seeAlso': None, 'thumbnail': None, 'homepage': None, 'behavior': None, 'partOf': None, 'items': [{'id': 'http://127.0.0.1:5500/canvas1', 'type': 'Canvas', 'label': None, 'height': 113, 'width': 200, 'duration': 2000, 'metadata': None, 'summary': None, 'requiredStatement': None, 'rendering': None, 'rights': None, 'navDate': None, 'navPlace': None, 'provider': None, 'seeAlso': None, 'service': None, 'placeholderCanvas': None, 'accompanyingCanvas': None, 'thumbnail': None, 'homepage': None, 'behavior': None, 'partOf': None, 'items': [{'id': 'http://127.0.0.1:5500/canvas/page', 'type': 'AnnotationPage', 'label': None, 'context': None, 'rendering': None, 'service': None, 'thumbnail': None, 'items': [{'id': 'http://127.0.0.1:5500/canvas/page/annotation', 'type': 'Annotation', 'label': None, 'service': None, 'rendering': None, 'thumbnail': None, 'motivation': 'painting', 'body': {'id': 'https://www.youtube.com/watch?v=7ujK78287FE', 'type': 'Video', 'height': 113, 'width': 200, 'duration': 2000, 'language': None, 'rendering': None, 'service': None, 'format': 'video/MPG', 'label': None, 'thumbnail': None, 'annotations': None}, 'target': 'http://127.0.0.1:5500/canvas1'}]}], 'annotations': None}], 'structures': None, 'annotations': None}\n",
      "_________________________________\n",
      "{'id': 'http://127.0.0.1:5500/manifest_6.json', 'type': 'Manifest', 'label': {'en': [' Matteo Treleani ¬ Crossing Borders Archives. The Circulation of Stock Shots in Audiovisual Media']}, 'context': None, 'metadata': [{'label': 'Title', 'value': ' Matteo Treleani ¬ Crossing Borders Archives. The Circulation of Stock Shots in Audiovisual Media'}, {'label': 'Speaker', 'value': ' Matteo Treleani '}, {'label': 'Description', 'value': \" DAY 2 - The ANR CROBORA project aims to shed light on the repetitive and memorial dimension of stock shots in audiovisual media. In partnership with Ina', ' Rai Radiotelevisione Italiana and Mediaset', ' 35', '000 stock images linked to European integration were collected from twenty years of French and Italian television news', ' as well as a selection of web accounts. A visualization platform and analysis tools have been implemented to analyze this sample of mediatized visual memory. This talk will focus on the issues involved in collecting', ' structuring', ' annotating and visualizing a complex and heterogeneous corpus.\"}, {'label': 'Place', 'value': 'University Rennes 2'}, {'label': 'URL', 'value': 'https://www.youtube.com/watch?v=xQCg6OE0mAQ'}, {'label': 'Tag', 'value': \"stockshot', ' medias', ' ANR CROBORA\"}], 'summary': None, 'requiredStatement': None, 'rendering': None, 'service': None, 'services': None, 'viewingDirection': None, 'placeholderCanvas': None, 'accompanyingCanvas': None, 'rights': None, 'start': None, 'navDate': None, 'navPlace': None, 'provider': None, 'seeAlso': None, 'thumbnail': None, 'homepage': None, 'behavior': None, 'partOf': None, 'items': [{'id': 'http://127.0.0.1:5500/canvas1', 'type': 'Canvas', 'label': None, 'height': 113, 'width': 200, 'duration': 1736, 'metadata': None, 'summary': None, 'requiredStatement': None, 'rendering': None, 'rights': None, 'navDate': None, 'navPlace': None, 'provider': None, 'seeAlso': None, 'service': None, 'placeholderCanvas': None, 'accompanyingCanvas': None, 'thumbnail': None, 'homepage': None, 'behavior': None, 'partOf': None, 'items': [{'id': 'http://127.0.0.1:5500/canvas/page', 'type': 'AnnotationPage', 'label': None, 'context': None, 'rendering': None, 'service': None, 'thumbnail': None, 'items': [{'id': 'http://127.0.0.1:5500/canvas/page/annotation', 'type': 'Annotation', 'label': None, 'service': None, 'rendering': None, 'thumbnail': None, 'motivation': 'painting', 'body': {'id': 'https://www.youtube.com/watch?v=xQCg6OE0mAQ', 'type': 'Video', 'height': 113, 'width': 200, 'duration': 1736, 'language': None, 'rendering': None, 'service': None, 'format': 'video/MPG', 'label': None, 'thumbnail': None, 'annotations': None}, 'target': 'http://127.0.0.1:5500/canvas1'}]}], 'annotations': None}], 'structures': None, 'annotations': None}\n",
      "_________________________________\n",
      "{'id': 'http://127.0.0.1:5500/manifest_7.json', 'type': 'Manifest', 'label': {'en': ['Nicola Carboni ¬ The Structures of Visual Exchanges']}, 'context': None, 'metadata': [{'label': 'Title', 'value': 'Nicola Carboni ¬ The Structures of Visual Exchanges'}, {'label': 'Speaker', 'value': ' Nicola Carboni '}, {'label': 'Description', 'value': \" DAY 2 - In the history of representation', ' the illustrated press has functioned as a significant driving force', ' curating', ' and disseminating ideas of visuality to artists and a wider audience. However', ' how can we even grasp the interaction and circulation of the visual at scale? How is it possible to analyse and comprehend image globalization? To address these questions', ' the Visual Contagions project has developed (i) a large corpus of digitized image data and (ii) methodologies to analyse image exchanges across the globe. Thanks to this groundwork', ' the project has conducted several large-scale analyses of visual transmissions. However', ' this computational study intertwines algorithms', ' information and data with a historical and conceptual complexity that makes computational investigations difficult to frame. Each of these analyses', ' in fact', ' lays its foundation on an ontological decision about the nature of circulation: what does circulation entail? How can we express it? What actual insights can we gain from it? The answers to these questions are fundamental to the creation', ' and function', ' of information systems able to support the historical analysis of cultural exchanges. The article explores the technological limitations and possibilities in conceptualizing', ' curating', ' and integrating historical data faced by the Visual Contagions project', ' focusing specifically on the documentation and analysis of visual exchanges. \"}, {'label': 'Place', 'value': 'University Rennes 2'}, {'label': 'URL', 'value': 'https://www.youtube.com/watch?v=Yf2pM2DsB88'}, {'label': 'Tag', 'value': \"Visual Contagions', ' image globalisation', ' art history', ' visual exchanges\"}], 'summary': None, 'requiredStatement': None, 'rendering': None, 'service': None, 'services': None, 'viewingDirection': None, 'placeholderCanvas': None, 'accompanyingCanvas': None, 'rights': None, 'start': None, 'navDate': None, 'navPlace': None, 'provider': None, 'seeAlso': None, 'thumbnail': None, 'homepage': None, 'behavior': None, 'partOf': None, 'items': [{'id': 'http://127.0.0.1:5500/canvas1', 'type': 'Canvas', 'label': None, 'height': 113, 'width': 200, 'duration': 1820, 'metadata': None, 'summary': None, 'requiredStatement': None, 'rendering': None, 'rights': None, 'navDate': None, 'navPlace': None, 'provider': None, 'seeAlso': None, 'service': None, 'placeholderCanvas': None, 'accompanyingCanvas': None, 'thumbnail': None, 'homepage': None, 'behavior': None, 'partOf': None, 'items': [{'id': 'http://127.0.0.1:5500/canvas/page', 'type': 'AnnotationPage', 'label': None, 'context': None, 'rendering': None, 'service': None, 'thumbnail': None, 'items': [{'id': 'http://127.0.0.1:5500/canvas/page/annotation', 'type': 'Annotation', 'label': None, 'service': None, 'rendering': None, 'thumbnail': None, 'motivation': 'painting', 'body': {'id': 'https://www.youtube.com/watch?v=Yf2pM2DsB88', 'type': 'Video', 'height': 113, 'width': 200, 'duration': 1820, 'language': None, 'rendering': None, 'service': None, 'format': 'video/MPG', 'label': None, 'thumbnail': None, 'annotations': None}, 'target': 'http://127.0.0.1:5500/canvas1'}]}], 'annotations': None}], 'structures': None, 'annotations': None}\n",
      "_________________________________\n"
     ]
    }
   ],
   "source": [
    "md_to_manifest(MARKDOWN_PATH, MANIFEST_PATH, ARVEST_MAIL, ARVEST_PASSWORD)\n",
    "\n",
    "metadata_update(MARKDOWN_PATH, MANIFEST_PATH, ARVEST_MAIL, ARVEST_PASSWORD)"
   ]
  },
  {
   "cell_type": "markdown",
   "metadata": {},
   "source": [
    "4. # Upload annotations"
   ]
  },
  {
   "cell_type": "code",
   "execution_count": 5,
   "metadata": {},
   "outputs": [
    {
     "name": "stdout",
     "output_type": "stream",
     "text": [
      "upload yours anotations...\n",
      "Opening statements\n",
      "Keynote - Scott deLaHunta ¬ Software for Dancers\n",
      "Olivier Aubert ¬ Advene', ' a Look Back on 20 Years of Video Annotation Instrumentation\n",
      "Mark J. Williams ¬ Deep Screens and Evocative Surfaces\n",
      "Michael Rau & Peter Broadwell ¬ Machine Intelligence for Motion Exegesis (MIME)\n",
      " Matteo Treleani ¬ Crossing Borders Archives. The Circulation of Stock Shots in Audiovisual Media\n",
      "Nicola Carboni ¬ The Structures of Visual Exchanges\n",
      "your manifest was successfully annotated !\n"
     ]
    }
   ],
   "source": [
    "md_to_anotation(MARKDOWN_PATH, MANIFEST_PATH, ARVEST_MAIL, ARVEST_PASSWORD)"
   ]
  }
 ],
 "metadata": {
  "kernelspec": {
   "display_name": "Python 3",
   "language": "python",
   "name": "python3"
  },
  "language_info": {
   "codemirror_mode": {
    "name": "ipython",
    "version": 3
   },
   "file_extension": ".py",
   "mimetype": "text/x-python",
   "name": "python",
   "nbconvert_exporter": "python",
   "pygments_lexer": "ipython3",
   "version": "3.12.7"
  }
 },
 "nbformat": 4,
 "nbformat_minor": 2
}

{
 "cells": [
  {
   "cell_type": "code",
   "execution_count": null,
   "metadata": {},
   "outputs": [
    {
     "name": "stdout",
     "output_type": "stream",
     "text": [
      "Installing and importing packages...\n",
      "Note: you may need to restart the kernel to use updated packages.\n",
      "Note: you may need to restart the kernel to use updated packages.\n"
     ]
    },
    {
     "name": "stderr",
     "output_type": "stream",
     "text": [
      "\n",
      "[notice] A new release of pip is available: 24.2 -> 25.0.1\n",
      "[notice] To update, run: python.exe -m pip install --upgrade pip\n"
     ]
    },
    {
     "name": "stdout",
     "output_type": "stream",
     "text": [
      "Note: you may need to restart the kernel to use updated packages.\n",
      "👍 Ready!\n"
     ]
    }
   ],
   "source": [
    "print(\"Installing and importing packages...\")\n",
    "\n",
    "# Uninstall and reinstall packages for a clean environment\n",
    "%pip uninstall -q -y arvestapi\n",
    "%pip install -q --disable-pip-version-check git+https://github.com/arvest-data-in-context/arvest-api.git\n",
    "%pip install -q iiif_prezi3\n",
    "\n",
    "# !pip uninstall -q -y jhutils\n",
    "# !pip install -q --disable-pip-version-check git+https://github.com/jdchart/jh-py-utils.git\n",
    "\n",
    "# !pip uninstall -q -y arvesttools\n",
    "# !pip install -q --disable-pip-version-check git+https://github.com/arvest-data-in-context/arvest-api-tools.git\n",
    "\n",
    "# Import packages\n",
    "import arvestapi\n",
    "import os\n",
    "import json\n",
    "from arvesttools.youtube import test\n",
    "from arvesttools.md_parser import sec_convert, recuperation\n",
    "from arvesttools.md_to_manifest import md_to_manifest\n",
    "\n",
    "print(\"👍 Ready!\")"
   ]
  },
  {
   "cell_type": "code",
   "execution_count": 4,
   "metadata": {},
   "outputs": [
    {
     "name": "stdout",
     "output_type": "stream",
     "text": [
      "👍 Ready!\n",
      "2129\n"
     ]
    }
   ],
   "source": [
    "\n",
    "print(\"👍 Ready!\")\n",
    "\n",
    "time = \"00:35:29\"\n",
    "\n",
    "hs = sec_convert(time)\n",
    "print(hs)"
   ]
  },
  {
   "cell_type": "code",
   "execution_count": 5,
   "metadata": {},
   "outputs": [],
   "source": [
    "ARVEST_MAIL = \"aryodeliae@gmail.com\"\n",
    "ARVEST_PASSWORD = \"Arvestmoon1203\"\n",
    "MARKDOWN_PATH = os.path.join(os.getcwd(),\"Boite a md\")\n",
    "MANIFEST_PATH = os.path.join(os.getcwd(),\"Boite a manifest\")\n"
   ]
  },
  {
   "cell_type": "code",
   "execution_count": null,
   "metadata": {},
   "outputs": [],
   "source": [
    "md_to_manifest(MARKDOWN_PATH, MANIFEST_PATH, ARVEST_MAIL, ARVEST_PASSWORD)"
   ]
  }
 ],
 "metadata": {
  "kernelspec": {
   "display_name": "Python 3",
   "language": "python",
   "name": "python3"
  },
  "language_info": {
   "codemirror_mode": {
    "name": "ipython",
    "version": 3
   },
   "file_extension": ".py",
   "mimetype": "text/x-python",
   "name": "python",
   "nbconvert_exporter": "python",
   "pygments_lexer": "ipython3",
   "version": "3.12.7"
  }
 },
 "nbformat": 4,
 "nbformat_minor": 2
}

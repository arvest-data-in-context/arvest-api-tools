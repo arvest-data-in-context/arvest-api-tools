{
 "cells": [
  {
   "cell_type": "markdown",
   "id": "5c1a510c",
   "metadata": {},
   "source": [
    "![alt text](<0 Pdf to manifest 1.jpg>)"
   ]
  },
  {
   "cell_type": "markdown",
   "id": "5c7b66d1",
   "metadata": {},
   "source": [
    "# 0. Setup\n",
    "\n",
    "Let's begin by installing and importing all of the different components we will need."
   ]
  },
  {
   "cell_type": "code",
   "execution_count": 1,
   "id": "fe365cc7",
   "metadata": {},
   "outputs": [
    {
     "name": "stdout",
     "output_type": "stream",
     "text": [
      "Installing and importing packages...\n",
      "Note: you may need to restart the kernel to use updated packages.\n",
      "Note: you may need to restart the kernel to use updated packages.\n",
      "Note: you may need to restart the kernel to use updated packages.\n",
      "Note: you may need to restart the kernel to use updated packages.\n",
      "Note: you may need to restart the kernel to use updated packages.\n",
      "Note: you may need to restart the kernel to use updated packages.\n",
      "👍 Ready!\n"
     ]
    }
   ],
   "source": [
    "print(\"Installing and importing packages...\")\n",
    "\n",
    "# Uninstall and reinstall packages for a clean environment\n",
    "%pip uninstall -q -y arvestapi\n",
    "%pip install -q --disable-pip-version-check git+https://github.com/arvest-data-in-context/arvest-api.git\n",
    "%pip install -q iiif_prezi3\n",
    "%pip install -q pdf2image\n",
    "%pip install -q urllib3\n",
    "%pip install -q pillow\n",
    "\n",
    "# !pip uninstall -q -y jhutils\n",
    "# !pip install -q --disable-pip-version-check git+https://github.com/jdchart/jh-py-utils.git\n",
    "\n",
    "# !pip uninstall -q -y arvesttools\n",
    "# !pip install -q --disable-pip-version-check git+https://github.com/arvest-data-in-context/arvest-api-tools.git\n",
    "\n",
    "# Import packages\n",
    "import os\n",
    "from arvesttools.pdf_to_manifest import pdf2manifest\n",
    "\n",
    "print(\"👍 Ready!\")"
   ]
  },
  {
   "cell_type": "markdown",
   "id": "bf7eea77",
   "metadata": {},
   "source": [
    "# 1. Prepare your data\n",
    "\n",
    "First you need to define a folder for your pdf files. The script will take all files in this folder and convert him into jpeg. This pictures will be next upload on Arvest and place in a manifest. Be carreful to name correctly the pdf files. Do not use the \" \" (whitespace character). \n",
    "\n",
    "You also need a image folder for stock jpeg file before upload her on Arvest. All jpeg will be remove after the upload.\n",
    "\n",
    "You aslo need to put/defile your Arvest user email and password. and the path of the folder were you have stock your markdown files and of the folder where you want to load your manifest files before upload there to Arverst.\n",
    "\n",
    "Finaly, define the resolution you want for the jpeg files. "
   ]
  },
  {
   "cell_type": "code",
   "execution_count": 2,
   "id": "322e5e7e",
   "metadata": {},
   "outputs": [],
   "source": [
    "BOITE_PDF = os.path.join(os.getcwd(),'boite a pdf')\n",
    "BOITE_IMG = os.path.join(os.getcwd(),'Boite a image')\n",
    "\n",
    "MAIL_ARVEST = \"aryodeliae@gmail.com\"\n",
    "PASSWORD_ARVEST = \"Arvestmoon1203\"\n",
    "\n",
    "IMG_RESOLUTION = 300"
   ]
  },
  {
   "cell_type": "markdown",
   "id": "c8dffbc8",
   "metadata": {},
   "source": [
    "# 3. Launch the script"
   ]
  },
  {
   "cell_type": "code",
   "execution_count": 3,
   "id": "e41d555c",
   "metadata": {},
   "outputs": [
    {
     "name": "stdout",
     "output_type": "stream",
     "text": [
      "Connected on Arveste as Bunbuku\n",
      "Convert Livret_de_regle_v1.pdf into jpeg...\n",
      "Upload medias on Arvest...\n",
      "Generate your manifest : Livret_de_regle_v1\n",
      "Pdf_Livret_de_regle_v1.json was successfully upload ! \n"
     ]
    }
   ],
   "source": [
    "pdf2manifest(BOITE_PDF, BOITE_IMG, MAIL_ARVEST, PASSWORD_ARVEST, IMG_RESOLUTION)"
   ]
  }
 ],
 "metadata": {
  "kernelspec": {
   "display_name": "Python 3",
   "language": "python",
   "name": "python3"
  },
  "language_info": {
   "codemirror_mode": {
    "name": "ipython",
    "version": 3
   },
   "file_extension": ".py",
   "mimetype": "text/x-python",
   "name": "python",
   "nbconvert_exporter": "python",
   "pygments_lexer": "ipython3",
   "version": "3.12.10"
  }
 },
 "nbformat": 4,
 "nbformat_minor": 5
}
